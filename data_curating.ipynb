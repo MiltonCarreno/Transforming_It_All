{
 "cells": [
  {
   "cell_type": "code",
   "execution_count": 1,
   "id": "0c7c70b9-5a3a-46f8-93e9-0d3965573c48",
   "metadata": {},
   "outputs": [],
   "source": [
    "fd = open(\"JLBorges.txt\", \"r\", encoding=\"utf-8\")\n",
    "text = fd.read()"
   ]
  },
  {
   "cell_type": "code",
   "execution_count": 2,
   "id": "572f88e7-e873-4954-9fd8-a54ef028cc65",
   "metadata": {},
   "outputs": [
    {
     "name": "stdout",
     "output_type": "stream",
     "text": [
      "Text length: 1247144\n"
     ]
    }
   ],
   "source": [
    "print(f\"Text length: {len(text)}\")"
   ]
  },
  {
   "cell_type": "code",
   "execution_count": 3,
   "id": "3967abe7-e22c-4ecb-89be-162dd04215cc",
   "metadata": {},
   "outputs": [
    {
     "name": "stdout",
     "output_type": "stream",
     "text": [
      "1th - Start: 137896 End: 289867 Len:151971\n",
      "2th - Start: 292136 End: 409296 Len:117160\n",
      "3th - Start: 409313 End: 656173 Len:246860\n",
      "4th - Start: 660858 End: 705887 Len:45029\n",
      "5th - Start: 707934 End: 710165 Len:2231\n",
      "6th - Start: 715901 End: 729182 Len:13281\n",
      "7th - Start: 735521 End: 877184 Len:141663\n",
      "8th - Start: 877209 End: 1035097 Len:157888\n",
      "9th - Start: 1038698 End: 1097517 Len:58819\n",
      "Text Length: 934902\n",
      "NEW Text Length: 934902\n"
     ]
    }
   ],
   "source": [
    "import re\n",
    "\n",
    "start = [\"Tlön, Uqbar, Orbis Tertius\\nI.\\n\",\n",
    "         \"Funes, His Memory\\*\\nI recall\",\n",
    "         \"The Immortal\\nSolomon saith: T\",\n",
    "         \"The Maker\\*\\nHe had\",\n",
    "         \"On Exactitude in Science\\nIn that Empire,\",\n",
    "         \"The Ethnographer\\nI was told a\",\n",
    "         \"The Interloper\\n2 Reyes\",\n",
    "         \"The Other\\nThe incident\",\n",
    "         \"Shakespeare’s Memory\\nAugust 25\"]\n",
    "end = [\"my endless contrition, and my weariness.\",\n",
    "       \"manage, and steps out into the plains.\",\n",
    "       \"For Estela Canto\",\n",
    "       \"world is exceedingly complex for the simplicity of men.\",\n",
    "       \"to put an end to men and their wondrous, fragile life.\",\n",
    "       \"his death, he had been in heaven.\",\n",
    "       \"remedy this report has the temerity to suggest.\",\n",
    "       \"street the library's on.\\*\",\n",
    "       \"fleeting memories that are perhaps authentic.\"]\n",
    "\n",
    "def getSection(start, end, txt):\n",
    "    pos = \"\"\n",
    "    l = 0\n",
    "    for i, p in enumerate(zip(start[:], end[:])):\n",
    "        a = re.search(p[0], txt).span()[0]\n",
    "        b = re.search(p[1], txt).span()[1] + 1\n",
    "        print(f\"{i+1}th - Start: {a} End: {b} Len:{b-a}\")\n",
    "        pos += txt[a:b]\n",
    "        l += (b - a)\n",
    "    print(f\"Text Length: {l}\")\n",
    "    print(f\"NEW Text Length: {len(pos)}\")\n",
    "    return pos\n",
    "\n",
    "text = getSection(start, end, text)"
   ]
  },
  {
   "cell_type": "code",
   "execution_count": 4,
   "id": "493f22ba-77c9-42b9-a0f4-b7a80b190ca1",
   "metadata": {},
   "outputs": [
    {
     "name": "stdout",
     "output_type": "stream",
     "text": [
      "Vocab Size: 115\n",
      "['\\n', ' ', '!', '\"', '&', \"'\", '(', ')', '*', ',', '-', '.', '/', '0', '1', '2', '3', '4', '5', '6', '7', '8', '9', ':', ';', '<', '>', '?', 'A', 'B', 'C', 'D', 'E', 'F', 'G', 'H', 'I', 'J', 'K', 'L', 'M', 'N', 'O', 'P', 'Q', 'R', 'S', 'T', 'U', 'V', 'W', 'X', 'Y', 'Z', '[', ']', 'a', 'b', 'c', 'd', 'e', 'f', 'g', 'h', 'i', 'j', 'k', 'l', 'm', 'n', 'o', 'p', 'q', 'r', 's', 't', 'u', 'v', 'w', 'x', 'y', 'z', '¡', '»', 'Á', 'Ä', 'Æ', 'Ñ', 'ß', 'à', 'á', 'â', 'ã', 'ä', 'ç', 'è', 'é', 'ê', 'ë', 'í', 'î', 'ï', 'ñ', 'ò', 'ó', 'ô', 'ö', 'ú', 'û', 'ü', 'œ', '—', '’', '“', '”']\n"
     ]
    }
   ],
   "source": [
    "chars = sorted(list(set(text)))\n",
    "print(f\"Vocab Size: {len(chars)}\\n{chars}\")"
   ]
  },
  {
   "cell_type": "code",
   "execution_count": 5,
   "id": "056555df-6353-427f-9a83-b52639fddfe5",
   "metadata": {},
   "outputs": [],
   "source": [
    "dic = {}\n",
    "dic['A'] = ['Á', 'Ä']\n",
    "dic['AE'] = ['Æ']\n",
    "dic['ss'] = ['ß']\n",
    "dic['a'] = ['à', 'á', 'â', 'ã', 'ä']\n",
    "dic['e'] = ['è', 'é', 'ê', 'ë']\n",
    "dic['i'] = ['í', 'î', 'ï',]\n",
    "dic['o'] = ['ò', 'ó', 'ô', 'ö']\n",
    "dic['oe'] = ['œ']\n",
    "dic['u'] = ['ú', 'û', 'ü']\n",
    "dic['\"'] = ['“', '”']\n",
    "dic[\"'\"] = ['’']\n",
    "dic[','] = ['»']"
   ]
  },
  {
   "cell_type": "code",
   "execution_count": 6,
   "id": "841876f5-6092-41b2-bfe5-4ce1ff4a9b9d",
   "metadata": {},
   "outputs": [
    {
     "name": "stdout",
     "output_type": "stream",
     "text": [
      "Vocab Size: 87\n",
      "['\\n', ' ', '!', '\"', '&', \"'\", '(', ')', '*', ',', '-', '.', '/', '0', '1', '2', '3', '4', '5', '6', '7', '8', '9', ':', ';', '<', '>', '?', 'A', 'B', 'C', 'D', 'E', 'F', 'G', 'H', 'I', 'J', 'K', 'L', 'M', 'N', 'O', 'P', 'Q', 'R', 'S', 'T', 'U', 'V', 'W', 'X', 'Y', 'Z', '[', ']', 'a', 'b', 'c', 'd', 'e', 'f', 'g', 'h', 'i', 'j', 'k', 'l', 'm', 'n', 'o', 'p', 'q', 'r', 's', 't', 'u', 'v', 'w', 'x', 'y', 'z', '¡', 'Ñ', 'ç', 'ñ', '—']\n"
     ]
    }
   ],
   "source": [
    "def multiple_replace(dic, txt):\n",
    "    for i in dic.items():\n",
    "        pattern = re.compile(\"|\".join(map(re.escape, i[1])))\n",
    "        txt = re.sub(pattern, i[0], txt)\n",
    "    return txt\n",
    "    \n",
    "text = multiple_replace(dic, text)\n",
    "chars = sorted(list(set(text)))\n",
    "print(f\"Vocab Size: {len(chars)}\\n{chars}\")"
   ]
  },
  {
   "cell_type": "code",
   "execution_count": null,
   "id": "54667665-05b2-4637-9efc-b01c9a214856",
   "metadata": {},
   "outputs": [],
   "source": []
  }
 ],
 "metadata": {
  "kernelspec": {
   "display_name": "Python 3 (ipykernel)",
   "language": "python",
   "name": "python3"
  },
  "language_info": {
   "codemirror_mode": {
    "name": "ipython",
    "version": 3
   },
   "file_extension": ".py",
   "mimetype": "text/x-python",
   "name": "python",
   "nbconvert_exporter": "python",
   "pygments_lexer": "ipython3",
   "version": "3.9.13"
  }
 },
 "nbformat": 4,
 "nbformat_minor": 5
}
