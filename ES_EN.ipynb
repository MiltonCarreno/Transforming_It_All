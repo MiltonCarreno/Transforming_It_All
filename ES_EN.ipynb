{
 "cells": [
  {
   "cell_type": "code",
   "execution_count": 29,
   "id": "4eeb65a7-a4e7-4f91-90ab-96842b22b7eb",
   "metadata": {},
   "outputs": [
    {
     "data": {
      "text/plain": [
       "8626.0"
      ]
     },
     "execution_count": 29,
     "metadata": {},
     "output_type": "execute_result"
    }
   ],
   "source": [
    "import os\n",
    "\n",
    "path = \"es-en/\"\n",
    "dir_list = os.listdir(path)\n",
    "len(sorted(dir_list))/2"
   ]
  },
  {
   "cell_type": "code",
   "execution_count": 30,
   "id": "8515e8df-9ee9-481d-a5e6-1d494895dfbd",
   "metadata": {},
   "outputs": [],
   "source": [
    "file_nums = []\n",
    "for f in dir_list:\n",
    "    name = f.split(\"_\")\n",
    "    file_nums.append(name[0])\n",
    "file_nums = set(file_nums)"
   ]
  },
  {
   "cell_type": "code",
   "execution_count": 31,
   "id": "2fce4e71-654c-4724-9919-48b7f024de13",
   "metadata": {},
   "outputs": [
    {
     "data": {
      "text/plain": [
       "8626"
      ]
     },
     "execution_count": 31,
     "metadata": {},
     "output_type": "execute_result"
    }
   ],
   "source": [
    "len(file_nums)"
   ]
  },
  {
   "cell_type": "code",
   "execution_count": 39,
   "id": "9f025b7f-acd5-4d46-bc9b-80b35c373829",
   "metadata": {},
   "outputs": [],
   "source": [
    "def read_file(f_name):\n",
    "    lines = \"\"\n",
    "    with open(f_name) as fd:\n",
    "        for i, line in enumerate(fd):\n",
    "            if i > 1:\n",
    "                lines += line\n",
    "    return lines    "
   ]
  },
  {
   "cell_type": "code",
   "execution_count": 40,
   "id": "a7786907-58b0-4475-8afe-d3816d5255aa",
   "metadata": {},
   "outputs": [
    {
     "data": {
      "text/plain": [
       "'Clinical development and perspectives of CIMAvax EGF, Cuban vaccine for non-small-cell lung cancer therapy.  INTRODUCTION  CIMAvax EGF is a therapeutic anticancer vaccine developed entirely in Cuba and licensed in Cuba for use in adult patients with stage IIIB/IV non-small-cell lung cancer (NSCLC).\\nThe vaccine is based on active immunotherapy by which an individual\\'s immune response is manipulated to release its own effector antibodies (Abs) against the epidermal growth factor (EGF).\\nOBJECTIVE  Review pre-clinical and clinical research conducted during development of CIMAvax EGF, primarily studies published by Cuban investigators in international peer-reviewed scientific journals.\\nMethods An automated search for \"vaccine\" and \"EGF\" was conducted in PubMed, resulting in 17 articles published by Cuban authors between January 1, 1994 and September 30, 2009. Main findings were described and discussed, along with unpublished preliminary findings of an initial ongoing phase III clinical trial.  RESULTS\\nArticles reviewed describe five phase I/II and one phase II clinical trials conducted in Cuba in 1995-2005.\\nA non-controlled 1995-1996 study resulted in the earliest published scientific evidence of the feasibility of inducing an immune response against autologous EGF in patients with different advanced stage tumors.\\nSubsequent controlled, randomized trials included patients with advanced stage (IIIB/IV) NSCLC. The 2 and 3rd phase I/II trials differentiated immunized patients as poor antibody responders (PAR) and good antibody responders (GAR), according to their anti-EGF antibody response, and confirmed greater immunogenicity with Montanide ISA 51 adjuvant in the vaccine formulation, as well as the benefits of low-dose cyclophosphamide treatment 72 hours before the first immunization.\\nThe 4th phase I/II trial found increased immunogenicity with an increased dose divided in 2 anatomical sites and also established correlation between Ab titers, serum EGF concentration and length of survival.\\nIn the first 4 phase I/II trials and the phase II trial, vaccine was administered after chemotherapy (ChTVV schedule).\\nIn the 5th phase I/III trial, longer survival and increased immunogenicity were achieved using a VChTV schedule and dividing the vaccine dose in 4 anatomical sites.\\nThe phase II clinical trial confirmed results of earlier studies as well as the mild-to-moderate adverse event profile associated with CIMAvax EGF Longer survival was observed in all vaccinated patients compared to controls, and the difference was significant (p < 0.05) in the group aged <60 years.  CONCLUSIONS\\nCIMAvax EGF\\'s benefits in earlier NSCLC stages and in other tumor locations, as well as in patients unfit for chemotherapy, need to be evaluated.\\nEvidence of the vaccine\\'s safety for chronic use also needs to be systemized.\\n'"
      ]
     },
     "execution_count": 40,
     "metadata": {},
     "output_type": "execute_result"
    }
   ],
   "source": [
    "read_file(\"es-en/20387330_en.txt\")"
   ]
  },
  {
   "cell_type": "code",
   "execution_count": 41,
   "id": "d6fa763a-5948-4ba8-a0f8-38b3606dd0b8",
   "metadata": {},
   "outputs": [
    {
     "data": {
      "text/plain": [
       "'Introducción CIMAvax EGF es una vacuna terapéutica contra el cáncer enteramente desarrollada en Cuba y licenciada en el país para su uso en pacientes adultos con cáncer de pulmón de células no pequeñas (CPCNP) en etapas IIIB/IV.\\nLa vacuna se basa en la inmunoterapia activa; o sea, manipula la respuesta inmune de un individuo para que genere sus propios anticuerpos efectores (Acs) contra el factor de crecimiento epidérmico (EGF).\\nObjetivo Revisar los estudios clínicos y preclínicos realizados durante el desarrollo de CIMAvax EGF, principalmente los publicados por investigadores cubanos en revistas científicas internacionales arbitradas.\\nMétodos Se efectuó una búsqueda automatizada en PubMed con el uso de las palabras claves “vacuna” y “EGF”, que dio como resultado 17 artículos publicados por autores cubanos entre el 1 de enero de 1994 y el 30 de septiembre del 2009. Se describieron y discutieron los principales resultados, junto con los hallazgos preliminares no publicados aún de un ensayo clínico inicial fase III en ejecución.\\nResultados Los artículos revisados describen cinco ensayos clínicos fase I/II y uno fase II realizados en Cuba de 1995–2005.\\nUn estudio no controlado de 1995–1996 fue la primera evidencia científicas de la factibilidad de inducir una respuesta inmune contra el EGF autólogo en pacientes con diferentes tumores en etapas avanzadas.\\nEnsayos posteriores controlados y aleatorizados incluyeron pacientes con CPCNP en etapas avanzadas (IIIB/IV).  En los ensayos segundo y tercero de fase I/ II, los pacientes inmunizados se diferenciaron en buenos respondedores (BR) y malos respondedores (MR) según las respuestas de anticuerpos contra el EGF y se conformó mayor inmunogenicidad al utilizar el adyuvante Montanide ISA 51 en la formulación vacunal, así como los beneficios del tratamiento de ciclofosfamida a baja dosis 72 horas antes de la primera inmunización.\\nEn el cuarto ensayo fase I/II se encontró un aumento de la inmunogenicidad con el aumento de la dosis, dividida en dos sitios anatómicos, y además se estableció la correlación entre los títulos de Acs, la concentración de EGF sérico y la supervivencia.\\nEn los primeros cuatro ensayos fase I/II, la vacuna se administró después de la quimioterapia (esquema QVV).\\nEn el quinto ensayo fase I/II, se lograron mayor supervivencia e inmunogenicidad utilizando un esquema VQV y dividiendo la dosis vacunal en cuatro sitios anatómicos.\\nEl ensayo clínico de fase II conforrmó los resultados de los estudios anteriores, así como un perfil de eventos adversos leves a moderados asociados a CIMAvax EGF.  Se observó mayor supervivencia en todos los pacientes vacunados en comparación con los controles y la diferencia fue estadísticamente significativa (p <0.05) en el grupo de <60 años.\\nConclusiones Es necesario evaluar los beneficios de CIMAvax EGF en etapas tempranas del CPCNP y en otras localizaciones tumorales, así como en los pacientes no aptos para recibir quimioterapia.\\nLa evidencia de que la vacuna es segura para uso mantenido también debe ser sistematizada.  Palabras clave Factor de crecimiento epidérmico, receptor del EGF, cáncer de pulmón de células no pequeñas, tratamiento vacunal, inmunoterapia, vacunas oncológicas\\n'"
      ]
     },
     "execution_count": 41,
     "metadata": {},
     "output_type": "execute_result"
    }
   ],
   "source": [
    "read_file(\"es-en/20387330_es.txt\")"
   ]
  },
  {
   "cell_type": "code",
   "execution_count": 82,
   "id": "845eca08-2d90-4e65-93b9-8f59393c205f",
   "metadata": {},
   "outputs": [],
   "source": [
    "import pandas as pd\n",
    "import numpy as np\n",
    "\n",
    "txts = {'num':[], 'es':[], 'en':[]}"
   ]
  },
  {
   "cell_type": "code",
   "execution_count": 83,
   "id": "dba29d97-faa7-41e3-9d43-8e56b475086f",
   "metadata": {},
   "outputs": [],
   "source": [
    "for f in file_nums:\n",
    "    txts['num'].append(f)\n",
    "    es_f = \"es-en/\" + f + \"_\" + \"es.txt\"\n",
    "    txts['es'].append(read_file(es_f))\n",
    "    en_f = \"es-en/\" + f + \"_\" + \"en.txt\"\n",
    "    txts['en'].append(read_file(en_f))"
   ]
  },
  {
   "cell_type": "code",
   "execution_count": 84,
   "id": "67a87fc0-b2fc-499a-83b5-6b27b159da86",
   "metadata": {},
   "outputs": [
    {
     "data": {
      "text/plain": [
       "(8626, 3)"
      ]
     },
     "execution_count": 84,
     "metadata": {},
     "output_type": "execute_result"
    }
   ],
   "source": [
    "df = pd.DataFrame(txts)\n",
    "df.shape"
   ]
  },
  {
   "cell_type": "code",
   "execution_count": 92,
   "id": "898709dd-1f18-478f-9179-b7facd20c22a",
   "metadata": {},
   "outputs": [
    {
     "data": {
      "text/html": [
       "<div>\n",
       "<style scoped>\n",
       "    .dataframe tbody tr th:only-of-type {\n",
       "        vertical-align: middle;\n",
       "    }\n",
       "\n",
       "    .dataframe tbody tr th {\n",
       "        vertical-align: top;\n",
       "    }\n",
       "\n",
       "    .dataframe thead th {\n",
       "        text-align: right;\n",
       "    }\n",
       "</style>\n",
       "<table border=\"1\" class=\"dataframe\">\n",
       "  <thead>\n",
       "    <tr style=\"text-align: right;\">\n",
       "      <th></th>\n",
       "      <th>num</th>\n",
       "      <th>es</th>\n",
       "      <th>en</th>\n",
       "    </tr>\n",
       "  </thead>\n",
       "  <tbody>\n",
       "    <tr>\n",
       "      <th>0</th>\n",
       "      <td>28585791</td>\n",
       "      <td>OBJETIVO\\nEl traumatismo craneoencefálico (TCE...</td>\n",
       "      <td>[Pediatric traumatic brain injury due to civil...</td>\n",
       "    </tr>\n",
       "    <tr>\n",
       "      <th>1</th>\n",
       "      <td>29185598</td>\n",
       "      <td>OBJETIVO\\nAnalizar las evidencias disponibles ...</td>\n",
       "      <td>OBJECTIVE\\nAnalyze the evidence available in B...</td>\n",
       "    </tr>\n",
       "    <tr>\n",
       "      <th>2</th>\n",
       "      <td>24718632</td>\n",
       "      <td>El objetivo del trabajo ha sido evaluar la pre...</td>\n",
       "      <td>[Latent tuberculosis infection in healthcare p...</td>\n",
       "    </tr>\n",
       "    <tr>\n",
       "      <th>3</th>\n",
       "      <td>27636986</td>\n",
       "      <td>INTRODUCCIÓN\\nLa utilización de indicadores bi...</td>\n",
       "      <td>Scientometric characterization of Medwave's sc...</td>\n",
       "    </tr>\n",
       "    <tr>\n",
       "      <th>4</th>\n",
       "      <td>25208792</td>\n",
       "      <td>Introducción\\nHay pocos estudios sobre la comp...</td>\n",
       "      <td>Assessments of body composition and bone param...</td>\n",
       "    </tr>\n",
       "    <tr>\n",
       "      <th>...</th>\n",
       "      <td>...</td>\n",
       "      <td>...</td>\n",
       "      <td>...</td>\n",
       "    </tr>\n",
       "    <tr>\n",
       "      <th>8621</th>\n",
       "      <td>30182539</td>\n",
       "      <td>ANTECEDENTES\\nLa neuroartropatía de Charcot, c...</td>\n",
       "      <td>Treatment algorithm for Charcot foot and surgi...</td>\n",
       "    </tr>\n",
       "    <tr>\n",
       "      <th>8622</th>\n",
       "      <td>26392973</td>\n",
       "      <td>Debido a la inquietud por la subnotificación d...</td>\n",
       "      <td>Relationship between education and training ac...</td>\n",
       "    </tr>\n",
       "    <tr>\n",
       "      <th>8623</th>\n",
       "      <td>24101780</td>\n",
       "      <td>OBJETIVO\\nEntender mejor la situación regional...</td>\n",
       "      <td>Cervical and female breast cancers in the Amer...</td>\n",
       "    </tr>\n",
       "    <tr>\n",
       "      <th>8624</th>\n",
       "      <td>25602627</td>\n",
       "      <td>Se denomina hidatidosis a la zoonosis parasita...</td>\n",
       "      <td>[Hepatopulmonary hydatidosis: pediatric case r...</td>\n",
       "    </tr>\n",
       "    <tr>\n",
       "      <th>8625</th>\n",
       "      <td>25929396</td>\n",
       "      <td>Implementar un protocolo de soporte nutriciona...</td>\n",
       "      <td>Implementing a nutrition support protocol in c...</td>\n",
       "    </tr>\n",
       "  </tbody>\n",
       "</table>\n",
       "<p>8626 rows × 3 columns</p>\n",
       "</div>"
      ],
      "text/plain": [
       "           num                                                 es  \\\n",
       "0     28585791  OBJETIVO\\nEl traumatismo craneoencefálico (TCE...   \n",
       "1     29185598  OBJETIVO\\nAnalizar las evidencias disponibles ...   \n",
       "2     24718632  El objetivo del trabajo ha sido evaluar la pre...   \n",
       "3     27636986  INTRODUCCIÓN\\nLa utilización de indicadores bi...   \n",
       "4     25208792  Introducción\\nHay pocos estudios sobre la comp...   \n",
       "...        ...                                                ...   \n",
       "8621  30182539  ANTECEDENTES\\nLa neuroartropatía de Charcot, c...   \n",
       "8622  26392973  Debido a la inquietud por la subnotificación d...   \n",
       "8623  24101780  OBJETIVO\\nEntender mejor la situación regional...   \n",
       "8624  25602627  Se denomina hidatidosis a la zoonosis parasita...   \n",
       "8625  25929396  Implementar un protocolo de soporte nutriciona...   \n",
       "\n",
       "                                                     en  \n",
       "0     [Pediatric traumatic brain injury due to civil...  \n",
       "1     OBJECTIVE\\nAnalyze the evidence available in B...  \n",
       "2     [Latent tuberculosis infection in healthcare p...  \n",
       "3     Scientometric characterization of Medwave's sc...  \n",
       "4     Assessments of body composition and bone param...  \n",
       "...                                                 ...  \n",
       "8621  Treatment algorithm for Charcot foot and surgi...  \n",
       "8622  Relationship between education and training ac...  \n",
       "8623  Cervical and female breast cancers in the Amer...  \n",
       "8624  [Hepatopulmonary hydatidosis: pediatric case r...  \n",
       "8625  Implementing a nutrition support protocol in c...  \n",
       "\n",
       "[8626 rows x 3 columns]"
      ]
     },
     "execution_count": 92,
     "metadata": {},
     "output_type": "execute_result"
    }
   ],
   "source": [
    "df"
   ]
  },
  {
   "cell_type": "code",
   "execution_count": 86,
   "id": "b20d64f2-6b72-40eb-a6d7-ff685953382b",
   "metadata": {},
   "outputs": [
    {
     "name": "stdout",
     "output_type": "stream",
     "text": [
      "8626 3\n"
     ]
    }
   ],
   "source": [
    "count_row = df.shape[0]  # Gives number of rows\n",
    "count_col = df.shape[1]\n",
    "\n",
    "print(count_row, count_col)"
   ]
  },
  {
   "cell_type": "code",
   "execution_count": 87,
   "id": "836367aa-7fe3-4f7b-886b-23e4ecbcc21d",
   "metadata": {},
   "outputs": [
    {
     "data": {
      "text/plain": [
       "'28585791'"
      ]
     },
     "execution_count": 87,
     "metadata": {},
     "output_type": "execute_result"
    }
   ],
   "source": [
    "df.iloc[0][0]"
   ]
  },
  {
   "cell_type": "code",
   "execution_count": 93,
   "id": "8b4a341b-77ab-4a07-90c9-b5284e938bab",
   "metadata": {},
   "outputs": [
    {
     "data": {
      "text/plain": [
       "'INTRODUCCIÓN: La dieta Mediterránea está reconocida como una de los patrones dietéticos más saludables pero, incluso en los propios países mediterráneos se está produciendo un deterioro y abandonando de la misma.\\nLos hábitos dietéticos quedan establecidos generalmente durante la adolescencia pero durante el periodo universitario los estudiantes pueden sufrir cambios importantes en su estilo de vida.\\nEl índice KIDMED está reconocido como una buena herramienta para la evaluación de la adherencia a la dieta mediterránea (ADM).\\nOBJETIVO\\nEl propósito de este estudio ha sido evaluar la ADM de estudiantes universitarios y evidenciar posibles variaciones a lo largo de la etapa universitaria valorando diferencias entre los cursos.\\nMÉTODO: Se llevó a cabo un estudio transversal con 213 alumnos de primer curso y 105 de cuarto curso.\\nSe clasificó a los estudiantes por sexo, tipo de residencia (en casa con sus padres o fuera de casa) e índice de masa corporal (IMC) (< 25 o > 25).\\nRESULTADOS\\nEl IMC para la muestra completa fue de 24,35 ± 2,71 en hombres y 22,54 ± 3,25 en mujeres (p < 0,001).\\nLa puntuación media de ADM fue de 7,0 ± 1,9, habiendo un 43% de estudiantes que mostraban una adherencia Buena.\\nEn general, se observó un bajo consumo de frutas, verduras y arroz o pasta, alimentos que están encuadrados en la base de la pirámide alimentaria.\\nEl consumo de aceite de oliva y legumbres resultó muy elevado y se encontró relación directa entre personas con sobrepeso (IMC > 25) y el hecho de no desayunar habitualmente (p < 0,05).\\nNo se han encontrado diferencias significativas entre alumnos de primero y cuarto curso aunque los alumnos de cuarto y que vivían fuera de casa presentaron un nivel de ADM mejor que el resto (p < 0,001).\\nCONCLUSIONES\\nSe recomiendan programas educacionales para motivar el consumo de los diferentes grupos de alimentos en general y especialmente estrategias para fomentar el consumo de frutas y verduras en el espacio universitario así como la práctica saludable del desayuno.\\n'"
      ]
     },
     "execution_count": 93,
     "metadata": {},
     "output_type": "execute_result"
    }
   ],
   "source": [
    "df.iloc[10][1]"
   ]
  },
  {
   "cell_type": "code",
   "execution_count": 94,
   "id": "f6b767cb-07d5-47df-a10c-2a79230649e6",
   "metadata": {},
   "outputs": [
    {
     "data": {
      "text/plain": [
       "\"Adherence to the Mediterranean diet by nursing students of Murcia (Spain).  INTRODUCTION  The Mediterranean diet is recognized as one with the healthiest dietary patterns; however, this diet is deteriorating and being abandoned even in the Mediterranean countries themselves.\\nGenerally speaking, dietary habits get fixed during adolescence although during the college phase, students may experience important changes in their lifestyles.\\nThe KIDMED index is recognized as a good tool to assess adherence to the Mediterranean diet (AMD).\\nOBJECTIVE\\nThe aim of this study was to assess AMD in college students and to evidence possible variations throughout the college period assessing differences between the college years.\\nMETHOD  A cross-sectional study with 213 alumni in first grade and 105 in fourth grade was carried out.\\nThe students were classified by gender, type of residence (parents' home or out of the parents' house) and body mass index (BMI) (< 25 or > 25).\\nRESULTS\\nThe BMI for the whole sample was 24.35 ± 2.71 in men and 22.54 ± 3.25 in women (p < 0.001).\\nThe mean score in AMD was 7.0 ± 1.9, with 43% of the students showing good adherence.\\nIn general, a low intake of fruits, vegetables, rice or pasta was observed, foods that are included in the base of the dietary pyramid.\\nConsumption of olive oil and legumes was very high and a direct relationship was observed between overweighed people (BMI > 25) and the habit of not having breakfast usually.\\nNo significant differences were observed between the student of first and fourth grades although those students in the fourth grade living away from the parental house had higher AMD level than the other students (p < 0.001).\\nCONCLUSIONS\\nEducational programs promoting the intake of the different groups of food are recommended, was well as strategies promoting the consumption of fruits and vegetables within the university area and the healthy habit of having breakfast.\\n\""
      ]
     },
     "execution_count": 94,
     "metadata": {},
     "output_type": "execute_result"
    }
   ],
   "source": [
    "df.iloc[10][2]"
   ]
  },
  {
   "cell_type": "code",
   "execution_count": null,
   "id": "c3821461-5276-4ce2-ab75-a3b960af1bb4",
   "metadata": {},
   "outputs": [],
   "source": []
  }
 ],
 "metadata": {
  "kernelspec": {
   "display_name": "Python 3 (ipykernel)",
   "language": "python",
   "name": "python3"
  },
  "language_info": {
   "codemirror_mode": {
    "name": "ipython",
    "version": 3
   },
   "file_extension": ".py",
   "mimetype": "text/x-python",
   "name": "python",
   "nbconvert_exporter": "python",
   "pygments_lexer": "ipython3",
   "version": "3.9.13"
  }
 },
 "nbformat": 4,
 "nbformat_minor": 5
}
